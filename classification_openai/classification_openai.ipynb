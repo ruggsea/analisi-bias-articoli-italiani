{
 "cells": [
  {
   "cell_type": "code",
   "execution_count": 2,
   "metadata": {},
   "outputs": [],
   "source": [
    "import openai \n",
    "import numpy as np\n",
    "import pandas as pd\n",
    "import tiktoken\n",
    "import tqdm\n",
    "import glob\n",
    "import json\n",
    "import re"
   ]
  },
  {
   "cell_type": "code",
   "execution_count": 3,
   "metadata": {},
   "outputs": [],
   "source": [
    "df = pd.read_csv('../dati_rivista/totale_isr_palestine.csv')\n",
    "#dataframe usato per annotare con GPT. Selezionati tutti gli articoli con nel titolo \"palestin|israel\""
   ]
  },
  {
   "cell_type": "code",
   "execution_count": 4,
   "metadata": {},
   "outputs": [],
   "source": [
    "df = df[df['titolo'].str.contains('israel|palestin',flags=re.I, regex=True).fillna(False)]"
   ]
  },
  {
   "cell_type": "code",
   "execution_count": 8,
   "metadata": {},
   "outputs": [],
   "source": [
    "from openai import OpenAI\n",
    "client = OpenAI(api_key='YOUR_API_KEY')"
   ]
  },
  {
   "cell_type": "markdown",
   "metadata": {},
   "source": [
    "# Count tokens"
   ]
  },
  {
   "cell_type": "code",
   "execution_count": 5,
   "metadata": {},
   "outputs": [],
   "source": [
    "def num_tokens_from_messages(messages, model=\"gpt-3.5-turbo-0613\"):\n",
    "    \"\"\"Return the number of tokens used by a list of messages.\"\"\"\n",
    "    try:\n",
    "        encoding = tiktoken.encoding_for_model(model)\n",
    "    except KeyError:\n",
    "        print(\"Warning: model not found. Using cl100k_base encoding.\")\n",
    "        encoding = tiktoken.get_encoding(\"cl100k_base\")\n",
    "    if model in {\n",
    "        \"gpt-3.5-turbo-0613\",\n",
    "        \"gpt-3.5-turbo-16k-0613\",\n",
    "        \"gpt-4-0314\",\n",
    "        \"gpt-4-32k-0314\",\n",
    "        \"gpt-4-0613\",\n",
    "        \"gpt-4-32k-0613\",\n",
    "        }:\n",
    "        tokens_per_message = 3\n",
    "        tokens_per_name = 1\n",
    "    elif model == \"gpt-3.5-turbo-0301\":\n",
    "        tokens_per_message = 4  # every message follows <|start|>{role/name}\\n{content}<|end|>\\n\n",
    "        tokens_per_name = -1  # if there's a name, the role is omitted\n",
    "    elif \"gpt-3.5-turbo\" in model:\n",
    "        print(\"Warning: gpt-3.5-turbo may update over time. Returning num tokens assuming gpt-3.5-turbo-0613.\")\n",
    "        return num_tokens_from_messages(messages, model=\"gpt-3.5-turbo-0613\")\n",
    "    elif \"gpt-4\" in model:\n",
    "        print(\"Warning: gpt-4 may update over time. Returning num tokens assuming gpt-4-0613.\")\n",
    "        return num_tokens_from_messages(messages, model=\"gpt-4-0613\")\n",
    "    else:\n",
    "        raise NotImplementedError(\n",
    "            f\"\"\"num_tokens_from_messages() is not implemented for model {model}. See https://github.com/openai/openai-python/blob/main/chatml.md for information on how messages are converted to tokens.\"\"\"\n",
    "        )\n",
    "    num_tokens = 0\n",
    "    for message in messages:\n",
    "        num_tokens += tokens_per_message\n",
    "        for key, value in message.items():\n",
    "            num_tokens += len(encoding.encode(value))\n",
    "            if key == \"name\":\n",
    "                num_tokens += tokens_per_name\n",
    "    num_tokens += 3  # every reply is primed with <|start|>assistant<|message|>\n",
    "    return num_tokens\n"
   ]
  },
  {
   "cell_type": "markdown",
   "metadata": {},
   "source": [
    "# Classificazione binaria"
   ]
  },
  {
   "cell_type": "code",
   "execution_count": 6,
   "metadata": {},
   "outputs": [],
   "source": [
    "df_benchmark = pd.read_csv('../test_articles.csv')"
   ]
  },
  {
   "cell_type": "code",
   "execution_count": 7,
   "metadata": {},
   "outputs": [],
   "source": [
    "df_benchmark = df_benchmark.rename(columns={'bias':'bias_true'})"
   ]
  },
  {
   "cell_type": "code",
   "execution_count": 8,
   "metadata": {},
   "outputs": [],
   "source": [
    "df_benchmark['pred_label'] = [None]*len(df_benchmark)"
   ]
  },
  {
   "cell_type": "code",
   "execution_count": 9,
   "metadata": {},
   "outputs": [],
   "source": [
    "from sklearn.metrics import accuracy_score"
   ]
  },
  {
   "cell_type": "code",
   "execution_count": 10,
   "metadata": {},
   "outputs": [],
   "source": [
    "df_anti_palestina = df_benchmark[df_benchmark['bias_true']=='anti_palestina']"
   ]
  },
  {
   "cell_type": "code",
   "execution_count": 11,
   "metadata": {},
   "outputs": [],
   "source": [
    "sample_size = len(df_anti_palestina)"
   ]
  },
  {
   "cell_type": "code",
   "execution_count": 12,
   "metadata": {},
   "outputs": [
    {
     "data": {
      "text/plain": [
       "14"
      ]
     },
     "execution_count": 12,
     "metadata": {},
     "output_type": "execute_result"
    }
   ],
   "source": [
    "sample_size"
   ]
  },
  {
   "cell_type": "code",
   "execution_count": 13,
   "metadata": {},
   "outputs": [],
   "source": [
    "df_non_anti_palestina = df_benchmark[df_benchmark['bias_true']!='anti_palestina'].sample(sample_size)"
   ]
  },
  {
   "cell_type": "code",
   "execution_count": 14,
   "metadata": {},
   "outputs": [],
   "source": [
    "df_non_anti_palestina['bias_true'] = ['no_bias']*len(df_non_anti_palestina)"
   ]
  },
  {
   "cell_type": "code",
   "execution_count": 15,
   "metadata": {},
   "outputs": [],
   "source": [
    "df_binary = pd.concat([df_anti_palestina,df_non_anti_palestina]).sample(frac=1)"
   ]
  },
  {
   "cell_type": "code",
   "execution_count": 16,
   "metadata": {},
   "outputs": [],
   "source": [
    "sistema_binary = '''Sei un esperto giornalista internazionale, molto imparziale e obiettivo. Stai effettuando una ricerca per un articolo sulla copertura mediatica del conflitto israelo-palestinese. Hai raccolto un campione di articoli da diversi giornali e ne stai leggendo gli articoli per capire se c'è un bias nella copertura mediatica. Il tuo compito è classificare gli articoli in due categorie:\n",
    "- categoria pro_israele: articoli con un bias a favore di Israele, che vogliono giustificare le violenze di Israele senza considerare la complessità del contesto.\n",
    "- categoria no_bias: articoli che non mostrano un bias a favore di Israele o che giustificano le azioni di Hamas.\n",
    "\n",
    "Fornisci le risposte solo in formato Json con due proprietà: reason (500 characters), bias (pro_israele, no_bias). Dopo la fine del json, stampa uu.'''"
   ]
  },
  {
   "cell_type": "code",
   "execution_count": 17,
   "metadata": {},
   "outputs": [],
   "source": [
    "df_binary['bias_true'] = df_binary['bias_true'].replace('anti_palestina','pro_israele')"
   ]
  },
  {
   "cell_type": "code",
   "execution_count": 18,
   "metadata": {},
   "outputs": [
    {
     "name": "stderr",
     "output_type": "stream",
     "text": [
      "100%|██████████| 28/28 [00:00<00:00, 80.76it/s]\n"
     ]
    }
   ],
   "source": [
    "count = 0\n",
    "for i in tqdm.tqdm(range(len(df_binary))):\n",
    "    text = df_binary.iloc[i,0]\n",
    "\n",
    "    messages=[{\"role\": \"system\", \"content\": sistema_binary},\n",
    "    {\"role\": \"user\", \"content\": \"Medio Oriente, Salvini: 'Reazione Israele inevitabile dopo carneficina'\"},\n",
    "    {\"role\":\"assistant\",\"content\": '{\"reason\": \"Le azioni di Israele vengono presentate esclusivamente come una reazione giustificata.\", \"bias\":\"pro_israele\"}uu'},\n",
    "    {\"role\": \"user\", \"content\": \"Saltata la tregua Israele riprende a colpire la Striscia  Ma si tratta ancora\"},\n",
    "    {\"role\":\"assistant\", \"content\":'{\"reason\": \"Il titolo cita entrambe le parti in gioco, senza prendere una posizione e senza nascondere nulla.\", \"bias\":\"no_bias\"}uu'},\n",
    "    #{\"role\":\"user\", \"content\":\"I palestinesi di Hamas sono come i partigiani\"},\n",
    "    #{\"role\":\"assistant\",\"content\":'{\"reason\":\"Il confronto tra i palestinesi di Hamas e i partigiani può essere interpretato come un tentativo di idealizzare o giustificare le azioni di Hamas.\", \"bias\":\"no_bias\"}uu'},\n",
    "    {\"role\":'user', \"content\":text}]\n",
    "    \n",
    "    #print(text)\n",
    "\n",
    "    count+=num_tokens_from_messages(messages)"
   ]
  },
  {
   "cell_type": "code",
   "execution_count": 19,
   "metadata": {},
   "outputs": [
    {
     "data": {
      "text/plain": [
       "11126"
      ]
     },
     "execution_count": 19,
     "metadata": {},
     "output_type": "execute_result"
    }
   ],
   "source": [
    "count"
   ]
  },
  {
   "cell_type": "markdown",
   "metadata": {},
   "source": [
    "## one test"
   ]
  },
  {
   "cell_type": "code",
   "execution_count": 23,
   "metadata": {},
   "outputs": [],
   "source": [
    "text = df_binary.iloc[2,0]"
   ]
  },
  {
   "cell_type": "code",
   "execution_count": 24,
   "metadata": {},
   "outputs": [],
   "source": [
    "messages=[{\"role\": \"system\", \"content\": sistema_binary},\n",
    "    {\"role\": \"user\", \"content\": \"Medio Oriente, Salvini: 'Reazione Israele inevitabile dopo carneficina'\"},\n",
    "    {\"role\":\"assistant\",\"content\": '{\"reason\": \"Le azioni di Israele vengono presentate esclusivamente come una reazione giustificata.\", \"bias\":\"pro_israele\"}uu'},\n",
    "    {\"role\": \"user\", \"content\": \"Saltata la tregua Israele riprende a colpire la Striscia  Ma si tratta ancora\"},\n",
    "    {\"role\":\"assistant\", \"content\":'{\"reason\": \"Il titolo cita entrambe le parti in gioco, senza prendere una posizione e senza nascondere nulla.\", \"bias\":\"no_bias\"}uu'},\n",
    "    #{\"role\":\"user\", \"content\":\"I palestinesi di Hamas sono come i partigiani\"},\n",
    "    #{\"role\":\"assistant\",\"content\":'{\"reason\":\"Il confronto tra i palestinesi di Hamas e i partigiani può essere interpretato come un tentativo di idealizzare o giustificare le azioni di Hamas.\", \"bias\":\"no_bias\"}uu'},\n",
    "    {\"role\":'user', \"content\":text}]"
   ]
  },
  {
   "cell_type": "code",
   "execution_count": 25,
   "metadata": {},
   "outputs": [
    {
     "data": {
      "text/plain": [
       "'Italiani solidali con Israele ma la maggioranza boccia l’invasione di Gaza'"
      ]
     },
     "execution_count": 25,
     "metadata": {},
     "output_type": "execute_result"
    }
   ],
   "source": [
    "text"
   ]
  },
  {
   "cell_type": "code",
   "execution_count": 34,
   "metadata": {},
   "outputs": [],
   "source": [
    "response = client.chat.completions.create(\n",
    "    model=\"gpt-3.5-turbo\",\n",
    "    messages=messages,\n",
    "    temperature=0\n",
    "    )"
   ]
  },
  {
   "cell_type": "code",
   "execution_count": 35,
   "metadata": {},
   "outputs": [
    {
     "data": {
      "text/plain": [
       "Choice(finish_reason='stop', index=0, logprobs=None, message=ChatCompletionMessage(content='{\"reason\": \"L\\'articolo sembra concentrarsi su un singolo incidente per dipingere in modo negativo i sostenitori palestinesi, senza considerare il contesto più ampio del conflitto.\", \"bias\":\"pro_israele\"}uu', role='assistant', function_call=None, tool_calls=None))"
      ]
     },
     "execution_count": 35,
     "metadata": {},
     "output_type": "execute_result"
    }
   ],
   "source": [
    "response.choices[0]"
   ]
  },
  {
   "cell_type": "markdown",
   "metadata": {},
   "source": [
    "## Predizioni con OpenAI per tutto il benchmark"
   ]
  },
  {
   "cell_type": "code",
   "execution_count": 36,
   "metadata": {},
   "outputs": [],
   "source": [
    "start = 0\n",
    "end = len(df_binary)"
   ]
  },
  {
   "cell_type": "code",
   "execution_count": 37,
   "metadata": {},
   "outputs": [
    {
     "name": "stderr",
     "output_type": "stream",
     "text": [
      "  0%|          | 0/28 [00:00<?, ?it/s]"
     ]
    },
    {
     "name": "stderr",
     "output_type": "stream",
     "text": [
      "100%|██████████| 28/28 [00:52<00:00,  1.87s/it]\n"
     ]
    }
   ],
   "source": [
    "pred_raw = []\n",
    "\n",
    "for i in tqdm.tqdm(range(start,end)):\n",
    "    text = df_binary.iloc[i,0]\n",
    "\n",
    "    messages=[{\"role\": \"system\", \"content\": sistema_binary},\n",
    "    {\"role\": \"user\", \"content\": \"Medio Oriente, Salvini: 'Reazione Israele inevitabile dopo carneficina'\"},\n",
    "    {\"role\":\"assistant\",\"content\": '{\"reason\": \"Le azioni di Israele vengono presentate esclusivamente come una reazione giustificata.\", \"bias\":\"pro_israele\"}uu'},\n",
    "    {\"role\": \"user\", \"content\": \"Saltata la tregua Israele riprende a colpire la Striscia  Ma si tratta ancora\"},\n",
    "    {\"role\":\"assistant\", \"content\":'{\"reason\": \"Il titolo cita entrambe le parti in gioco, senza prendere una posizione e senza nascondere nulla.\", \"bias\":\"no_bias\"}uu'},\n",
    "    #{\"role\":\"user\", \"content\":\"I palestinesi di Hamas sono come i partigiani\"},\n",
    "    #{\"role\":\"assistant\",\"content\":'{\"reason\":\"Il confronto tra i palestinesi di Hamas e i partigiani può essere interpretato come un tentativo di idealizzare o giustificare le azioni di Hamas.\", \"bias\":\"no_bias\"}uu'},\n",
    "    {\"role\":'user', \"content\":text}]\n",
    "\n",
    "    response = client.chat.completions.create(\n",
    "    model=\"gpt-3.5-turbo\",\n",
    "    messages=messages,\n",
    "    temperature=0\n",
    "    )\n",
    "\n",
    "    pred_raw.append(response.choices[0].message.content)"
   ]
  },
  {
   "cell_type": "code",
   "execution_count": 38,
   "metadata": {},
   "outputs": [],
   "source": [
    "df_binary['pred_label'] = list(map(lambda x: json.loads(x[:-2])['bias'],pred_raw))"
   ]
  },
  {
   "cell_type": "code",
   "execution_count": 39,
   "metadata": {},
   "outputs": [
    {
     "data": {
      "text/html": [
       "<div>\n",
       "<style scoped>\n",
       "    .dataframe tbody tr th:only-of-type {\n",
       "        vertical-align: middle;\n",
       "    }\n",
       "\n",
       "    .dataframe tbody tr th {\n",
       "        vertical-align: top;\n",
       "    }\n",
       "\n",
       "    .dataframe thead th {\n",
       "        text-align: right;\n",
       "    }\n",
       "</style>\n",
       "<table border=\"1\" class=\"dataframe\">\n",
       "  <thead>\n",
       "    <tr style=\"text-align: right;\">\n",
       "      <th></th>\n",
       "      <th>titolo</th>\n",
       "      <th>link</th>\n",
       "      <th>data</th>\n",
       "      <th>giornale</th>\n",
       "      <th>bias_true</th>\n",
       "      <th>pred_label</th>\n",
       "    </tr>\n",
       "  </thead>\n",
       "  <tbody>\n",
       "    <tr>\n",
       "      <th>24</th>\n",
       "      <td>I pro-Palestina assaltano un supermercato: le ...</td>\n",
       "      <td>https://www.liberoquotidiano.it/news/milano/38...</td>\n",
       "      <td>2024-02-24</td>\n",
       "      <td>Libero</td>\n",
       "      <td>pro_israele</td>\n",
       "      <td>pro_israele</td>\n",
       "    </tr>\n",
       "  </tbody>\n",
       "</table>\n",
       "</div>"
      ],
      "text/plain": [
       "                                               titolo  \\\n",
       "24  I pro-Palestina assaltano un supermercato: le ...   \n",
       "\n",
       "                                                 link        data giornale  \\\n",
       "24  https://www.liberoquotidiano.it/news/milano/38...  2024-02-24   Libero   \n",
       "\n",
       "      bias_true   pred_label  \n",
       "24  pro_israele  pro_israele  "
      ]
     },
     "execution_count": 39,
     "metadata": {},
     "output_type": "execute_result"
    }
   ],
   "source": [
    "df_binary.sample()"
   ]
  },
  {
   "cell_type": "code",
   "execution_count": 40,
   "metadata": {},
   "outputs": [],
   "source": [
    "preds = df_binary['pred_label'].tolist()\n",
    "true_labs = df_binary['bias_true'].tolist()"
   ]
  },
  {
   "cell_type": "code",
   "execution_count": null,
   "metadata": {},
   "outputs": [
    {
     "data": {
      "text/plain": [
       "0.6428571428571429"
      ]
     },
     "metadata": {},
     "output_type": "display_data"
    }
   ],
   "source": [
    "accuracy_score(true_labs,preds)\n",
    "#Non buonissimo"
   ]
  },
  {
   "cell_type": "markdown",
   "metadata": {},
   "source": [
    "# Predizioni per tutti il df"
   ]
  },
  {
   "cell_type": "code",
   "execution_count": 27,
   "metadata": {},
   "outputs": [],
   "source": [
    "if len(glob.glob('openai_partial.csv'))>0:\n",
    "    df = pd.read_csv('openai_partial.csv')\n",
    "    start = len(df.dropna())\n",
    "    end = len(df)\n",
    "\n",
    "else:\n",
    "    df = pd.read_csv('base_csv_for_LLM.csv')\n",
    "    df['raw_pred'] = [None]*len(df)\n",
    "    df['bias'] = [None]*len(df) \n",
    "    df['reason'] = [None]*len(df)\n",
    "    start = 0\n",
    "    end = len(df)"
   ]
  },
  {
   "cell_type": "code",
   "execution_count": 20,
   "metadata": {},
   "outputs": [
    {
     "name": "stderr",
     "output_type": "stream",
     "text": [
      "  0%|          | 0/234 [00:00<?, ?it/s]"
     ]
    },
    {
     "name": "stderr",
     "output_type": "stream",
     "text": [
      "100%|██████████| 234/234 [07:06<00:00,  1.82s/it]\n"
     ]
    }
   ],
   "source": [
    "for i in tqdm.tqdm(range(start+1,end)):\n",
    "    text = df.iloc[i,0]\n",
    "\n",
    "    messages=[{\"role\": \"system\", \"content\": sistema_binary},\n",
    "    {\"role\": \"user\", \"content\": \"Medio Oriente, Salvini: 'Reazione Israele inevitabile dopo carneficina'\"},\n",
    "    {\"role\":\"assistant\",\"content\": '{\"reason\": \"Le azioni di Israele vengono presentate esclusivamente come una reazione giustificata.\", \"bias\":\"pro_israele\"}uu'},\n",
    "    {\"role\": \"user\", \"content\": \"Saltata la tregua Israele riprende a colpire la Striscia  Ma si tratta ancora\"},\n",
    "    {\"role\":\"assistant\", \"content\":'{\"reason\": \"Il titolo cita entrambe le parti in gioco, senza prendere una posizione e senza nascondere nulla.\", \"bias\":\"no_bias\"}uu'},\n",
    "    #{\"role\":\"user\", \"content\":\"I palestinesi di Hamas sono come i partigiani\"},\n",
    "    #{\"role\":\"assistant\",\"content\":'{\"reason\":\"Il confronto tra i palestinesi di Hamas e i partigiani può essere interpretato come un tentativo di idealizzare o giustificare le azioni di Hamas.\", \"bias\":\"no_bias\"}uu'},\n",
    "    {\"role\":'user', \"content\":text}]\n",
    "\n",
    "    response = client.chat.completions.create(\n",
    "    model=\"gpt-3.5-turbo\",\n",
    "    messages=messages,\n",
    "    temperature=0\n",
    "    )\n",
    "\n",
    "    df.iloc[i,4] = response.choices[0].message.content\n",
    "    df.iloc[i,5] = json.loads(response.choices[0].message.content[:-2])['bias']\n",
    "    df.iloc[i,6] = json.loads(response.choices[0].message.content[:-2])['reason']\n",
    "\n",
    "    df.to_csv('openai_partial.csv',index=False) #salviamo a ogni iterazione per evitare problemi"
   ]
  },
  {
   "cell_type": "code",
   "execution_count": 25,
   "metadata": {},
   "outputs": [],
   "source": [
    "df.to_csv('openai_def.csv',index=False)\n",
    "#salvare dataset finale tutto annotato"
   ]
  }
 ],
 "metadata": {
  "kernelspec": {
   "display_name": "pythonforjournalists",
   "language": "python",
   "name": "python3"
  },
  "language_info": {
   "codemirror_mode": {
    "name": "ipython",
    "version": 3
   },
   "file_extension": ".py",
   "mimetype": "text/x-python",
   "name": "python",
   "nbconvert_exporter": "python",
   "pygments_lexer": "ipython3",
   "version": "3.12.0"
  }
 },
 "nbformat": 4,
 "nbformat_minor": 2
}
